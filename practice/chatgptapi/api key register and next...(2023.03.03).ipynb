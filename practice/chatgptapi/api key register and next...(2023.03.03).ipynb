{
  "nbformat": 4,
  "nbformat_minor": 0,
  "metadata": {
    "colab": {
      "provenance": [],
      "authorship_tag": "ABX9TyOvVoXBs53F5CX9VEysWyk2",
      "include_colab_link": true
    },
    "kernelspec": {
      "name": "python3",
      "display_name": "Python 3"
    },
    "language_info": {
      "name": "python"
    }
  },
  "cells": [
    {
      "cell_type": "markdown",
      "metadata": {
        "id": "view-in-github",
        "colab_type": "text"
      },
      "source": [
        "<a href=\"https://colab.research.google.com/github/pmj-chosim/Apps-using-ai-api/blob/main/practice/chatgptapi/api%20key%20register%20and%20next...(2023.03.03).ipynb\" target=\"_parent\"><img src=\"https://colab.research.google.com/assets/colab-badge.svg\" alt=\"Open In Colab\"/></a>"
      ]
    },
    {
      "cell_type": "markdown",
      "source": [
        "#1. api key 등록\n",
        "(1) (드라이브에 env 넣고) 드라이브 마운트\n",
        "\n",
        "(2) colab에서 env 쓸 수 있게 다운\n",
        "\n",
        "(3) env 파일 넣기"
      ],
      "metadata": {
        "id": "LD7dNTjOVe_n"
      }
    },
    {
      "cell_type": "markdown",
      "source": [
        "(1)(드라이브에 esv 넣고) 드라이브 마운트"
      ],
      "metadata": {
        "id": "jautRFUkVvfO"
      }
    },
    {
      "cell_type": "code",
      "source": [
        "from google.colab import drive\n",
        "\n",
        "# Mount Google Drive to Colab\n",
        "drive.mount('/content/drive/')"
      ],
      "metadata": {
        "colab": {
          "base_uri": "https://localhost:8080/"
        },
        "id": "icXb3UvDQc_C",
        "outputId": "4fd0531c-fcf5-4acb-ded8-ccfeeeaca274"
      },
      "execution_count": 19,
      "outputs": [
        {
          "output_type": "stream",
          "name": "stdout",
          "text": [
            "Mounted at /content/drive/\n"
          ]
        }
      ]
    },
    {
      "cell_type": "markdown",
      "source": [
        "(2) colab에서 esv 쓸 수 있게 다운"
      ],
      "metadata": {
        "id": "G7dfZ9UnVzhZ"
      }
    },
    {
      "cell_type": "code",
      "source": [
        "!pip install python-dotenv"
      ],
      "metadata": {
        "colab": {
          "base_uri": "https://localhost:8080/"
        },
        "id": "XsKWlRE1VFaH",
        "outputId": "e73bb6d9-c012-4ecf-eb42-357ae9e49c4c"
      },
      "execution_count": 20,
      "outputs": [
        {
          "output_type": "stream",
          "name": "stdout",
          "text": [
            "Looking in indexes: https://pypi.org/simple, https://us-python.pkg.dev/colab-wheels/public/simple/\n",
            "Collecting python-dotenv\n",
            "  Downloading python_dotenv-1.0.0-py3-none-any.whl (19 kB)\n",
            "Installing collected packages: python-dotenv\n",
            "Successfully installed python-dotenv-1.0.0\n"
          ]
        }
      ]
    },
    {
      "cell_type": "markdown",
      "source": [
        "(3) env 파일 넣기"
      ],
      "metadata": {
        "id": "gWSbs5B7WCj1"
      }
    },
    {
      "cell_type": "code",
      "source": [
        "from dotenv import load_dotenv\n",
        "\n",
        "# Load environment variables from .env file\n",
        "load_dotenv('/content/drive/MyDrive/firstgptapiex.env')"
      ],
      "metadata": {
        "colab": {
          "base_uri": "https://localhost:8080/"
        },
        "id": "7-De_gnJVI0F",
        "outputId": "441c92ab-62d8-4be9-9627-cf0223613f4b"
      },
      "execution_count": 22,
      "outputs": [
        {
          "output_type": "execute_result",
          "data": {
            "text/plain": [
              "True"
            ]
          },
          "metadata": {},
          "execution_count": 22
        }
      ]
    },
    {
      "cell_type": "code",
      "source": [
        "import os\n",
        "\n",
        "# Get the OpenAI API key from the environment variables\n",
        "openai_api_key = os.getenv('OPENAI_API_KEY')"
      ],
      "metadata": {
        "id": "qsVsZaopVO08"
      },
      "execution_count": 23,
      "outputs": []
    },
    {
      "cell_type": "markdown",
      "source": [
        "# 2. 앱 돌리기???"
      ],
      "metadata": {
        "id": "rp-KFCltW5sH"
      }
    },
    {
      "cell_type": "code",
      "source": [
        "# Clone the OpenAI quickstart repository\n",
        "!git clone https://github.com/openai/quickstart.git\n",
        "\n",
        "# Change to the quickstart directory\n",
        "%cd quickstart\n",
        "\n",
        "# Copy the .env.example file to .env\n",
        "!cp /content/drive/MyDrive/firstgptapiex.env .env"
      ],
      "metadata": {
        "colab": {
          "base_uri": "https://localhost:8080/"
        },
        "id": "9d0Jg-h-Otfq",
        "outputId": "142e527b-7049-488e-b035-79b81a1fef4f"
      },
      "execution_count": 24,
      "outputs": [
        {
          "output_type": "stream",
          "name": "stdout",
          "text": [
            "Cloning into 'quickstart'...\n",
            "fatal: could not read Username for 'https://github.com': No such device or address\n",
            "[Errno 2] No such file or directory: 'quickstart'\n",
            "/content\n"
          ]
        }
      ]
    },
    {
      "cell_type": "code",
      "source": [
        "generate_text(\"In a shocking turn of events,\")"
      ],
      "metadata": {
        "colab": {
          "base_uri": "https://localhost:8080/",
          "height": 172
        },
        "id": "7FLp0SXKPEHY",
        "outputId": "151bf6af-b9d8-4faa-f65f-5c7ba55d6d49"
      },
      "execution_count": 26,
      "outputs": [
        {
          "output_type": "error",
          "ename": "NameError",
          "evalue": "ignored",
          "traceback": [
            "\u001b[0;31m---------------------------------------------------------------------------\u001b[0m",
            "\u001b[0;31mNameError\u001b[0m                                 Traceback (most recent call last)",
            "\u001b[0;32m<ipython-input-26-7d5befb429b8>\u001b[0m in \u001b[0;36m<module>\u001b[0;34m\u001b[0m\n\u001b[0;32m----> 1\u001b[0;31m \u001b[0mgenerate_text\u001b[0m\u001b[0;34m(\u001b[0m\u001b[0;34m\"In a shocking turn of events,\"\u001b[0m\u001b[0;34m)\u001b[0m\u001b[0;34m\u001b[0m\u001b[0;34m\u001b[0m\u001b[0m\n\u001b[0m",
            "\u001b[0;31mNameError\u001b[0m: name 'generate_text' is not defined"
          ]
        }
      ]
    }
  ]
}